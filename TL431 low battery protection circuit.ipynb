{
 "cells": [
  {
   "cell_type": "markdown",
   "metadata": {},
   "source": [
    "$V_{Bat} > (1 + \\frac{R_{5}}{\\frac{R_{6}R_{8}}{R_{6}+R_{8}}})V_{Ref}$\n",
    "\n",
    "$v_{Bat} < (1 + \\frac{\\frac{R_{5}R_{8}}{R_{5}+R_{8}}}{R_{6}})V_{Ref}$\n",
    "\n"
   ]
  },
  {
   "cell_type": "code",
   "execution_count": 67,
   "metadata": {},
   "outputs": [],
   "source": [
    "R5 = 1600 + 75\n",
    "R6 = 820\n",
    "R8 = 40000\n",
    "vref = 2.5"
   ]
  },
  {
   "cell_type": "code",
   "execution_count": 68,
   "metadata": {},
   "outputs": [
    {
     "data": {
      "text/plain": [
       "7.71139481707317"
      ]
     },
     "execution_count": 68,
     "metadata": {},
     "output_type": "execute_result"
    }
   ],
   "source": [
    "vbathigh = (1 + (R5/((R6*R8)/(R6+R8))))*vref\n",
    "vbathigh"
   ]
  },
  {
   "cell_type": "code",
   "execution_count": 69,
   "metadata": {},
   "outputs": [
    {
     "data": {
      "text/plain": [
       "7.401458732643715"
      ]
     },
     "execution_count": 69,
     "metadata": {},
     "output_type": "execute_result"
    }
   ],
   "source": [
    "vbatlow = (1 + (((R5*R8)/(R5+R8)))/R6)*vref\n",
    "vbatlow"
   ]
  },
  {
   "cell_type": "markdown",
   "metadata": {},
   "source": [
    "$V_{Out} = \\frac{V_{S}R_{2}}{R_{1}+R_{2}}$"
   ]
  },
  {
   "cell_type": "code",
   "execution_count": 70,
   "metadata": {},
   "outputs": [],
   "source": [
    "VsLow = 7.4\n",
    "VsHigh = 8.4\n",
    "R1 = 1600\n",
    "R2 = 820"
   ]
  },
  {
   "cell_type": "code",
   "execution_count": 72,
   "metadata": {},
   "outputs": [
    {
     "data": {
      "text/plain": [
       "2.507438016528926"
      ]
     },
     "execution_count": 72,
     "metadata": {},
     "output_type": "execute_result"
    }
   ],
   "source": [
    "VrefLow = (VsLow*R2)/(R1+R2)\n",
    "VrefLow"
   ]
  },
  {
   "cell_type": "code",
   "execution_count": 73,
   "metadata": {},
   "outputs": [
    {
     "data": {
      "text/plain": [
       "2.8462809917355374"
      ]
     },
     "execution_count": 73,
     "metadata": {},
     "output_type": "execute_result"
    }
   ],
   "source": [
    "VrefHigh = (VsHigh*R2)/(R1+R2)\n",
    "VrefHigh"
   ]
  },
  {
   "cell_type": "code",
   "execution_count": null,
   "metadata": {},
   "outputs": [],
   "source": []
  }
 ],
 "metadata": {
  "kernelspec": {
   "display_name": "Python 3",
   "language": "python",
   "name": "python3"
  },
  "language_info": {
   "codemirror_mode": {
    "name": "ipython",
    "version": 3
   },
   "file_extension": ".py",
   "mimetype": "text/x-python",
   "name": "python",
   "nbconvert_exporter": "python",
   "pygments_lexer": "ipython3",
   "version": "3.7.4"
  }
 },
 "nbformat": 4,
 "nbformat_minor": 2
}
